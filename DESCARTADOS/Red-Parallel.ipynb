{
 "cells": [
  {
   "cell_type": "code",
   "execution_count": 11,
   "metadata": {
    "colab": {
     "base_uri": "https://localhost:8080/"
    },
    "executionInfo": {
     "elapsed": 1354,
     "status": "ok",
     "timestamp": 1651781426650,
     "user": {
      "displayName": "Christian Mauricio Yépez Escalante",
      "userId": "15071697346296237740"
     },
     "user_tz": 300
    },
    "id": "hhg4evFt81xb",
    "outputId": "a13a9922-844b-46e1-d8e3-75cbec199f3c",
    "scrolled": true
   },
   "outputs": [
    {
     "name": "stdout",
     "output_type": "stream",
     "text": [
      "# packages in environment at /home/fgrijalva/.conda/envs/deepvolcanoTest:\r\n",
      "#\r\n",
      "# Name                    Version                   Build  Channel\r\n",
      "_libgcc_mutex             0.1                 conda_forge    conda-forge\r\n",
      "_openmp_mutex             4.5                  2_kmp_llvm    conda-forge\r\n",
      "alsa-lib                  1.2.3.2              h166bdaf_0    conda-forge\r\n",
      "argon2-cffi               21.1.0           py36h8f6f2f9_0    conda-forge\r\n",
      "async_generator           1.10                       py_0    conda-forge\r\n",
      "attrs                     21.4.0             pyhd8ed1ab_0    conda-forge\r\n",
      "backcall                  0.2.0              pyh9f0ad1d_0    conda-forge\r\n",
      "backports                 1.0                        py_2    conda-forge\r\n",
      "backports.functools_lru_cache 1.6.4              pyhd8ed1ab_0    conda-forge\r\n",
      "blas                      1.0                         mkl  \r\n",
      "bleach                    5.0.0              pyhd8ed1ab_0    conda-forge\r\n",
      "c-ares                    1.18.1               h7f98852_0    conda-forge\r\n",
      "ca-certificates           2021.10.8            ha878542_0    conda-forge\r\n",
      "cffi                      1.14.6           py36hd8eec40_1    conda-forge\r\n",
      "colorama                  0.4.4              pyh9f0ad1d_0    conda-forge\r\n",
      "cudatoolkit               10.1.243            h036e899_10    conda-forge\r\n",
      "cycler                    0.11.0             pyhd8ed1ab_0    conda-forge\r\n",
      "dataclasses               0.8                pyh787bdff_2    conda-forge\r\n",
      "dbus                      1.13.6               h5008d03_3    conda-forge\r\n",
      "decorator                 5.1.1              pyhd8ed1ab_0    conda-forge\r\n",
      "defusedxml                0.7.1              pyhd8ed1ab_0    conda-forge\r\n",
      "entrypoints               0.4                pyhd8ed1ab_0    conda-forge\r\n",
      "expat                     2.4.8                h27087fc_0    conda-forge\r\n",
      "font-ttf-dejavu-sans-mono 2.37                 hab24e00_0    conda-forge\r\n",
      "font-ttf-inconsolata      3.000                h77eed37_0    conda-forge\r\n",
      "font-ttf-source-code-pro  2.038                h77eed37_0    conda-forge\r\n",
      "font-ttf-ubuntu           0.83                 hab24e00_0    conda-forge\r\n",
      "fontconfig                2.14.0               h8e229c2_0    conda-forge\r\n",
      "fonts-conda-ecosystem     1                             0    conda-forge\r\n",
      "fonts-conda-forge         1                             0    conda-forge\r\n",
      "freetype                  2.10.4               h0708190_1    conda-forge\r\n",
      "gettext                   0.19.8.1          h73d1719_1008    conda-forge\r\n",
      "glib                      2.70.2               h780b84a_4    conda-forge\r\n",
      "glib-tools                2.70.2               h780b84a_4    conda-forge\r\n",
      "gst-plugins-base          1.14.5               h0935bb2_2    conda-forge\r\n",
      "gstreamer                 1.18.5               h9f60fe5_3    conda-forge\r\n",
      "h5py                      2.10.0          nompi_py36h4510012_106    conda-forge\r\n",
      "hdf5                      1.10.6          nompi_h6a2412b_1114    conda-forge\r\n",
      "icu                       67.1                 he1b5a44_0    conda-forge\r\n",
      "ipykernel                 5.5.5            py36hcb3619a_0    conda-forge\r\n",
      "ipython                   7.16.1           py36he448a4c_2    conda-forge\r\n",
      "ipython_genutils          0.2.0                      py_1    conda-forge\r\n",
      "ipywidgets                7.6.5              pyhd8ed1ab_0    conda-forge\r\n",
      "jbig                      2.1               h7f98852_2003    conda-forge\r\n",
      "jedi                      0.17.2           py36h5fab9bb_1    conda-forge\r\n",
      "jinja2                    3.0.3              pyhd8ed1ab_0    conda-forge\r\n",
      "jpeg                      9e                   h166bdaf_1    conda-forge\r\n",
      "jsonschema                3.0.2                    py36_0    conda-forge\r\n",
      "jupyter                   1.0.0            py36h5fab9bb_6    conda-forge\r\n",
      "jupyter_client            7.1.2              pyhd8ed1ab_0    conda-forge\r\n",
      "jupyter_console           6.4.3              pyhd8ed1ab_0    conda-forge\r\n",
      "jupyter_core              4.8.1            py36h5fab9bb_0    conda-forge\r\n",
      "jupyterlab_pygments       0.1.2              pyh9f0ad1d_0    conda-forge\r\n",
      "jupyterlab_widgets        1.1.0              pyhd8ed1ab_0    conda-forge\r\n",
      "keyutils                  1.6.1                h166bdaf_0    conda-forge\r\n",
      "kiwisolver                1.3.1            py36h605e78d_1    conda-forge\r\n",
      "krb5                      1.19.3               h3790be6_0    conda-forge\r\n",
      "ld_impl_linux-64          2.36.1               hea4e1c9_2    conda-forge\r\n",
      "lerc                      3.0                  h9c3ff4c_0    conda-forge\r\n",
      "libblas                   3.9.0                     8_mkl    conda-forge\r\n",
      "libcblas                  3.9.0                     8_mkl    conda-forge\r\n",
      "libclang                  11.1.0          default_ha53f305_1    conda-forge\r\n",
      "libcurl                   7.83.1               h7bff187_0    conda-forge\r\n",
      "libdeflate                1.10                 h7f98852_0    conda-forge\r\n",
      "libedit                   3.1.20191231         he28a2e2_2    conda-forge\r\n",
      "libev                     4.33                 h516909a_1    conda-forge\r\n",
      "libevent                  2.1.10               h9b69904_4    conda-forge\r\n",
      "libffi                    3.4.2                h7f98852_5    conda-forge\r\n",
      "libgcc-ng                 12.1.0              h8d9b700_16    conda-forge\r\n",
      "libgfortran-ng            12.1.0              h69a702a_16    conda-forge\r\n",
      "libgfortran5              12.1.0              hdcd56e2_16    conda-forge\r\n",
      "libglib                   2.70.2               h174f98d_4    conda-forge\r\n",
      "libiconv                  1.16                 h516909a_0    conda-forge\r\n",
      "liblapack                 3.9.0                     8_mkl    conda-forge\r\n",
      "libllvm11                 11.1.0               hf817b99_3    conda-forge\r\n",
      "libllvm13                 13.0.1               hf817b99_2    conda-forge\r\n",
      "libnghttp2                1.47.0               h727a467_0    conda-forge\r\n",
      "libnsl                    2.0.0                h7f98852_0    conda-forge\r\n",
      "libogg                    1.3.4                h7f98852_1    conda-forge\r\n",
      "libopus                   1.3.1                h7f98852_1    conda-forge\r\n",
      "libpng                    1.6.37               h21135ba_2    conda-forge\r\n",
      "libpq                     12.9                 hc2c5182_1  \r\n",
      "libsodium                 1.0.18               h36c2ea0_1    conda-forge\r\n",
      "libssh2                   1.10.0               ha56f1ee_2    conda-forge\r\n",
      "libstdcxx-ng              12.1.0              ha89aaad_16    conda-forge\r\n",
      "libtiff                   4.3.0                h542a066_3    conda-forge\r\n",
      "libuuid                   2.32.1            h7f98852_1000    conda-forge\r\n",
      "libuv                     1.43.0               h7f98852_0    conda-forge\r\n",
      "libvorbis                 1.3.7                h9c3ff4c_0    conda-forge\r\n",
      "libwebp-base              1.2.2                h7f98852_1    conda-forge\r\n",
      "libxcb                    1.13              h7f98852_1004    conda-forge\r\n",
      "libxkbcommon              1.0.3                he3ba5ed_0    conda-forge\r\n",
      "libxml2                   2.9.10               h68273f3_2    conda-forge\r\n",
      "libzlib                   1.2.11            h166bdaf_1014    conda-forge\r\n",
      "llvm-openmp               14.0.3               he0ac6c6_0    conda-forge\r\n",
      "lz4-c                     1.9.3                h9c3ff4c_1    conda-forge\r\n",
      "markupsafe                2.0.1            py36h8f6f2f9_0    conda-forge\r\n",
      "matplotlib                3.2.2                         1    conda-forge\r\n",
      "matplotlib-base           3.2.2            py36h5fdd944_1    conda-forge\r\n",
      "mistune                   0.8.4           py36h8f6f2f9_1004    conda-forge\r\n",
      "mkl                       2020.4             h726a3e6_304    conda-forge\r\n",
      "mkl-service               2.3.0            py36h8c4c3a4_2    conda-forge\r\n",
      "mkl_fft                   1.3.0            py36h92226af_1    conda-forge\r\n",
      "mkl_random                1.2.0            py36h7c3b610_1    conda-forge\r\n",
      "mysql-common              8.0.29               haf5c9bc_0    conda-forge\r\n",
      "mysql-libs                8.0.29               h28c427c_0    conda-forge\r\n",
      "nbclient                  0.5.9              pyhd8ed1ab_0    conda-forge\r\n",
      "nbconvert                 6.0.7            py36h5fab9bb_3    conda-forge\r\n",
      "nbformat                  5.1.3              pyhd8ed1ab_0    conda-forge\r\n",
      "ncurses                   6.3                  h27087fc_1    conda-forge\r\n",
      "nest-asyncio              1.5.5              pyhd8ed1ab_0    conda-forge\r\n",
      "ninja                     1.10.2               h4bd325d_1    conda-forge\r\n",
      "notebook                  6.3.0            py36h5fab9bb_0    conda-forge\r\n",
      "nspr                      4.32                 h9c3ff4c_1    conda-forge\r\n",
      "nss                       3.77                 h2350873_0    conda-forge\r\n",
      "numpy                     1.19.2           py36h54aff64_0  \r\n",
      "numpy-base                1.19.2           py36hfa32c7d_0  \r\n",
      "olefile                   0.46               pyh9f0ad1d_1    conda-forge\r\n",
      "openssl                   1.1.1o               h166bdaf_0    conda-forge\r\n",
      "packaging                 21.3               pyhd8ed1ab_0    conda-forge\r\n",
      "pandas                    1.1.5            py36h284efc9_0    conda-forge\r\n",
      "pandoc                    2.18                 ha770c72_0    conda-forge\r\n",
      "pandocfilters             1.5.0              pyhd8ed1ab_0    conda-forge\r\n",
      "parso                     0.7.1              pyh9f0ad1d_0    conda-forge\r\n",
      "pcre                      8.45                 h9c3ff4c_0    conda-forge\r\n",
      "pexpect                   4.8.0              pyh9f0ad1d_2    conda-forge\r\n",
      "pickleshare               0.7.5                   py_1003    conda-forge\r\n",
      "pillow                    6.1.0            py36h6b7be26_1    conda-forge\r\n",
      "pip                       21.3.1             pyhd8ed1ab_0    conda-forge\r\n",
      "prometheus_client         0.14.1             pyhd8ed1ab_0    conda-forge\r\n",
      "prompt-toolkit            3.0.29             pyha770c72_0    conda-forge\r\n",
      "prompt_toolkit            3.0.29               hd8ed1ab_0    conda-forge\r\n",
      "pthread-stubs             0.4               h36c2ea0_1001    conda-forge\r\n",
      "ptyprocess                0.7.0              pyhd3deb0d_0    conda-forge\r\n",
      "pycparser                 2.21               pyhd8ed1ab_0    conda-forge\r\n",
      "pygments                  2.12.0             pyhd8ed1ab_0    conda-forge\r\n",
      "pyparsing                 3.0.9              pyhd8ed1ab_0    conda-forge\r\n",
      "pyqt                      5.12.3           py36h5fab9bb_7    conda-forge\r\n",
      "pyqt-impl                 5.12.3           py36h7ec31b9_7    conda-forge\r\n",
      "pyqt5-sip                 4.19.18          py36hc4f0c31_7    conda-forge\r\n",
      "pyqtchart                 5.12             py36h7ec31b9_7    conda-forge\r\n",
      "pyqtwebengine             5.12.1           py36h7ec31b9_7    conda-forge\r\n",
      "pyrsistent                0.17.3           py36h8f6f2f9_2    conda-forge\r\n",
      "python                    3.6.15          hb7a2778_0_cpython    conda-forge\r\n",
      "python-dateutil           2.8.2              pyhd8ed1ab_0    conda-forge\r\n",
      "python_abi                3.6                     2_cp36m    conda-forge\r\n",
      "pytorch                   1.8.1           py3.6_cuda10.1_cudnn7.6.3_0    pytorch\r\n",
      "pytz                      2022.1             pyhd8ed1ab_0    conda-forge\r\n",
      "pyzmq                     22.3.0           py36h7068817_0    conda-forge\r\n",
      "qt                        5.12.9               h763d07f_1    conda-forge\r\n",
      "qtconsole                 5.2.2              pyhd8ed1ab_1    conda-forge\r\n",
      "qtconsole-base            5.2.2              pyhd8ed1ab_1    conda-forge\r\n",
      "qtpy                      2.0.1              pyhd8ed1ab_0    conda-forge\r\n",
      "readline                  8.1                  h46c0cb4_0    conda-forge\r\n",
      "scipy                     1.5.3            py36h81d768a_1    conda-forge\r\n",
      "send2trash                1.8.0              pyhd8ed1ab_0    conda-forge\r\n",
      "setuptools                58.0.4           py36h5fab9bb_2    conda-forge\r\n",
      "six                       1.16.0             pyh6c4a22f_0    conda-forge\r\n",
      "sqlite                    3.38.5               h4ff8645_0    conda-forge\r\n",
      "terminado                 0.12.1           py36h5fab9bb_0    conda-forge\r\n",
      "testpath                  0.6.0              pyhd8ed1ab_0    conda-forge\r\n",
      "tk                        8.6.12               h27826a3_0    conda-forge\r\n",
      "torchvision               0.2.2                      py_3    pytorch\r\n",
      "tornado                   6.1              py36h8f6f2f9_1    conda-forge\r\n",
      "tqdm                      4.64.0             pyhd8ed1ab_0    conda-forge\r\n",
      "traitlets                 4.3.3              pyhd8ed1ab_2    conda-forge\r\n",
      "typing_extensions         4.1.1              pyha770c72_0    conda-forge\r\n",
      "wcwidth                   0.2.5              pyh9f0ad1d_2    conda-forge\r\n",
      "webencodings              0.5.1                      py_1    conda-forge\r\n",
      "wheel                     0.37.1             pyhd8ed1ab_0    conda-forge\r\n",
      "widgetsnbextension        3.5.1            py36h5fab9bb_4    conda-forge\r\n",
      "xorg-libxau               1.0.9                h7f98852_0    conda-forge\r\n",
      "xorg-libxdmcp             1.1.3                h7f98852_0    conda-forge\r\n",
      "xz                        5.2.5                h516909a_1    conda-forge\r\n",
      "zeromq                    4.3.4                h9c3ff4c_1    conda-forge\r\n",
      "zlib                      1.2.11            h166bdaf_1014    conda-forge\r\n",
      "zstd                      1.5.2                ha95c52a_0    conda-forge\r\n"
     ]
    }
   ],
   "source": [
    "!conda list"
   ]
  },
  {
   "cell_type": "code",
   "execution_count": 12,
   "metadata": {
    "executionInfo": {
     "elapsed": 1600,
     "status": "ok",
     "timestamp": 1651781428461,
     "user": {
      "displayName": "Christian Mauricio Yépez Escalante",
      "userId": "15071697346296237740"
     },
     "user_tz": 300
    },
    "id": "ti01SFhJ9mzS"
   },
   "outputs": [],
   "source": [
    "import importlib\n",
    "\n",
    "import RedFunciones.visualizacion as visualizacion\n",
    "import RedFunciones.Generador as Generador\n",
    "import RedFunciones.Discriminador as Discriminador\n",
    "import RedFunciones.auxiliares as auxiliares\n",
    "import RedFunciones.DataloaderVol as DataloaderVol\n",
    "import RedFunciones.Checkpoint as Checkpoint\n",
    "\n",
    "importlib.reload(auxiliares)\n",
    "importlib.reload(visualizacion)\n",
    "importlib.reload(Generador)\n",
    "importlib.reload(Discriminador)\n",
    "importlib.reload(DataloaderVol)\n",
    "importlib.reload(Checkpoint)\n",
    "\n",
    "import Auxiliares.BinaryAccuracy as bin_acc"
   ]
  },
  {
   "cell_type": "code",
   "execution_count": 13,
   "metadata": {
    "colab": {
     "base_uri": "https://localhost:8080/"
    },
    "executionInfo": {
     "elapsed": 159,
     "status": "ok",
     "timestamp": 1651781429436,
     "user": {
      "displayName": "Christian Mauricio Yépez Escalante",
      "userId": "15071697346296237740"
     },
     "user_tz": 300
    },
    "id": "d-u2HlmUUDqF",
    "outputId": "03ea79ff-dc41-45d6-9bc6-8ffc34070c8e"
   },
   "outputs": [
    {
     "name": "stdout",
     "output_type": "stream",
     "text": [
      "/home/fgrijalva/Red\n",
      "True\n",
      "2\n"
     ]
    }
   ],
   "source": [
    "import torch\n",
    "from torch import nn\n",
    "\n",
    "from tqdm.auto import tqdm # Progress bar\n",
    "\n",
    "from torchvision import transforms\n",
    "from torchvision.utils import make_grid\n",
    "from torchvision.datasets import MNIST #noned\n",
    "\n",
    "from torch.utils.data import DataLoader\n",
    "import matplotlib.pyplot as plt\n",
    "\n",
    "torch.manual_seed(0) # Set for our testing purposes, please do not change!\n",
    "\n",
    "import os\n",
    "cwd = os.getcwd()\n",
    "print(cwd)\n",
    "\n",
    "cuda0 = torch.device('cuda')\n",
    "cpu = 'cuda'\n",
    "device = torch.device(cuda0 if torch.cuda.is_available() else cpu)\n",
    "print(torch.cuda.is_available())\n",
    "print(torch.cuda.device_count())"
   ]
  },
  {
   "cell_type": "markdown",
   "metadata": {
    "id": "Z5T2lKzKDm3W"
   },
   "source": [
    "criterion: the loss function\n",
    "\n",
    "n_epochs: the number of times you iterate through the entire \n",
    "dataset when training\n",
    "\n",
    "z_dim: the dimension of the noise vector\n",
    "\n",
    "display_step: how often to display/visualize the images\n",
    "\n",
    "batch_size: the number of images per forward/backward pass\n",
    "\n",
    "lr: the learning rate\n",
    "\n",
    "device: the device type"
   ]
  },
  {
   "cell_type": "code",
   "execution_count": 14,
   "metadata": {
    "executionInfo": {
     "elapsed": 159,
     "status": "ok",
     "timestamp": 1651781431216,
     "user": {
      "displayName": "Christian Mauricio Yépez Escalante",
      "userId": "15071697346296237740"
     },
     "user_tz": 300
    },
    "id": "3yenniLFFfEP"
   },
   "outputs": [],
   "source": [
    "h5_filename = cwd + '/baseh5/baseSR10.h5'\n",
    "nombre = 'master'\n",
    "nombre_carga = 'master-2022-04-04.pt'\n",
    "\n",
    "criterion = nn.BCEWithLogitsLoss()\n",
    "\n",
    "mnist_shape = (1, 129, 33) #tamaño imagen\n",
    "n_classes = 2 # numkero etiquetas\n",
    "z_dim = 64\n",
    "\n",
    "n_epochs = 25\n",
    "display_step = 50\n",
    "batch_size = 16\n",
    "\n",
    "lrg = 0.0001\n",
    "beta_1_g = 0.5\n",
    "beta_2_g = 0.999\n",
    "repeats_g = 1\n",
    "\n",
    "lrd = 0.0001\n",
    "beta_1_d = 0.5\n",
    "beta_2_d = 0.999\n",
    "d_repeats = 1\n",
    "\n",
    "mean = 0\n",
    "std = 1\n",
    "\n",
    "guardar = False\n",
    "cargar = False\n",
    "save_steep = 1\n",
    "\n",
    "epoch_temp = -1\n",
    "gen_loss_temp = torch.empty([])\n",
    "disc_loss_temp = torch.empty([])"
   ]
  },
  {
   "cell_type": "code",
   "execution_count": 15,
   "metadata": {
    "executionInfo": {
     "elapsed": 158,
     "status": "ok",
     "timestamp": 1651781432914,
     "user": {
      "displayName": "Christian Mauricio Yépez Escalante",
      "userId": "15071697346296237740"
     },
     "user_tz": 300
    },
    "id": "DRszMzZCjtlc"
   },
   "outputs": [],
   "source": [
    "mean_p = False\n",
    "\n",
    "regularizaM = True\n",
    "reg_lambda = 0.001"
   ]
  },
  {
   "cell_type": "code",
   "execution_count": 16,
   "metadata": {
    "executionInfo": {
     "elapsed": 164,
     "status": "ok",
     "timestamp": 1651781434214,
     "user": {
      "displayName": "Christian Mauricio Yépez Escalante",
      "userId": "15071697346296237740"
     },
     "user_tz": 300
    },
    "id": "2jS27fJSj705"
   },
   "outputs": [],
   "source": [
    "if mean_p:\n",
    "    myDataA = DataloaderVol.VolcanoDatasetH5(h5_filename)\n",
    "    dataloaderA = DataLoader(\n",
    "        myDataA,\n",
    "        batch_size=batch_size,\n",
    "        shuffle=True)\n",
    "\n",
    "    def get_mean_and_std(dataloader):\n",
    "        channels_sum, channels_squared_sum, num_batches = 0, 0, 0\n",
    "        for data, _ in dataloader:\n",
    "            # Mean over batch, height and width, but not over the channels\n",
    "            channels_sum += torch.mean(data, dim=[0,2,3])\n",
    "            channels_squared_sum += torch.mean(data**2, dim=[0,2,3])\n",
    "            num_batches += 1    \n",
    "        mean = channels_sum / num_batches\n",
    "        # std = sqrt(E[X^2] - (E[X])^2)\n",
    "        std = (channels_squared_sum / num_batches - mean ** 2) ** 0.5\n",
    "        return mean.item(), std.item()\n",
    "\n",
    "    mean, std = get_mean_and_std(dataloaderA)\n",
    "    print(mean)\n",
    "    print(std)"
   ]
  },
  {
   "cell_type": "code",
   "execution_count": 17,
   "metadata": {
    "executionInfo": {
     "elapsed": 165,
     "status": "ok",
     "timestamp": 1651781435932,
     "user": {
      "displayName": "Christian Mauricio Yépez Escalante",
      "userId": "15071697346296237740"
     },
     "user_tz": 300
    },
    "id": "eh7DtKHEHTY3"
   },
   "outputs": [],
   "source": [
    "#cargar datos\n",
    "if mean_p:\n",
    "    transform = transforms.Compose([\n",
    "        #transforms.ToTensor(),\n",
    "        transforms.Normalize((mean,), (std,)),\n",
    "        #torchaudio.transforms.MelScale(sample_rate=50, n_stft=129)\n",
    "    ])    \n",
    "else:\n",
    "    transform = transforms.Compose([\n",
    "        #transforms.ToTensor(),\n",
    "        #transforms.Normalize((mean,), (std,)),\n",
    "        #torchaudio.transforms.MelScale(sample_rate=50, n_stft=129)\n",
    "    ])    \n",
    "myData = DataloaderVol.VolcanoDatasetH5(h5_filename, transform)\n",
    "\n",
    "dataloader = DataLoader(\n",
    "    myData,\n",
    "    batch_size=batch_size,\n",
    "    shuffle=True)\n",
    "\n",
    "#a, b = next(iter(dataloader))\n",
    "#print(a)"
   ]
  },
  {
   "cell_type": "code",
   "execution_count": 18,
   "metadata": {
    "colab": {
     "base_uri": "https://localhost:8080/"
    },
    "executionInfo": {
     "elapsed": 337,
     "status": "ok",
     "timestamp": 1651772269978,
     "user": {
      "displayName": "Christian Mauricio Yépez Escalante",
      "userId": "15071697346296237740"
     },
     "user_tz": 300
    },
    "id": "_3fJlIMKkpbD",
    "outputId": "1c919b75-f779-4bfd-dc9e-254529742946"
   },
   "outputs": [],
   "source": [
    "#a, b = next(iter(dataloader))\n",
    "#print(a[0])"
   ]
  },
  {
   "cell_type": "code",
   "execution_count": 21,
   "metadata": {
    "executionInfo": {
     "elapsed": 4181,
     "status": "ok",
     "timestamp": 1651781442530,
     "user": {
      "displayName": "Christian Mauricio Yépez Escalante",
      "userId": "15071697346296237740"
     },
     "user_tz": 300
    },
    "id": "BQRA9L7sJVPU"
   },
   "outputs": [],
   "source": [
    "generator_input_dim, discriminator_im_chan = auxiliares.get_input_dimensions(z_dim, mnist_shape, n_classes)\n",
    "\n",
    "gen = Generador.Generator(input_dim=generator_input_dim).to(device)\n",
    "gen =nn.parallel.DataParallel(gen)\n",
    "gen_opt = torch.optim.Adam(gen.parameters(), lr=lrg)\n",
    "disc = Discriminador.Discriminator(im_chan=discriminator_im_chan).to(device)\n",
    "disc =nn.parallel.DataParallel(disc)\n",
    "disc_opt = torch.optim.Adam(disc.parameters(), lr=lrd)\n",
    "gen = gen.apply(auxiliares.weights_init)\n",
    "disc = disc.apply(auxiliares.weights_init)\n",
    "\n",
    "        \n",
    "metric = bin_acc.BinaryAccuracy()"
   ]
  },
  {
   "cell_type": "code",
   "execution_count": 22,
   "metadata": {
    "executionInfo": {
     "elapsed": 12,
     "status": "ok",
     "timestamp": 1651781442531,
     "user": {
      "displayName": "Christian Mauricio Yépez Escalante",
      "userId": "15071697346296237740"
     },
     "user_tz": 300
    },
    "id": "Uwf8nslcSBWF"
   },
   "outputs": [],
   "source": [
    "if cargar:\n",
    "    compelto = Checkpoint.DIRECTORY + nombre_carga\n",
    "    checkpoint = torch.load(compelto)\n",
    "    gen.load_state_dict(checkpoint['gen'])\n",
    "    disc.load_state_dict(checkpoint['disc'])\n",
    "    gen_opt.load_state_dict(checkpoint['gen_opt'])\n",
    "    disc_opt.load_state_dict(checkpoint['disc_opt'])\n",
    "    epoch_temp = checkpoint['epoch']\n",
    "    gen_loss_temp = checkpoint['gen_loss']\n",
    "    disc_loss_temp = checkpoint['dis_loss']\n",
    "    print('Modelo cargado')\n",
    "    print('epoch: ' + str(epoch_temp))"
   ]
  },
  {
   "cell_type": "code",
   "execution_count": null,
   "metadata": {
    "colab": {
     "base_uri": "https://localhost:8080/",
     "height": 246
    },
    "executionInfo": {
     "elapsed": 812,
     "status": "error",
     "timestamp": 1651786992162,
     "user": {
      "displayName": "Christian Mauricio Yépez Escalante",
      "userId": "15071697346296237740"
     },
     "user_tz": 300
    },
    "id": "5dKjX-BpKq2s",
    "outputId": "503a6cc3-7017-46f1-d8fa-cd03722077fc",
    "scrolled": false
   },
   "outputs": [
    {
     "name": "stdout",
     "output_type": "stream",
     "text": [
      "Epoch: 0\n"
     ]
    },
    {
     "data": {
      "application/vnd.jupyter.widget-view+json": {
       "model_id": "7c75cf050f3449f2b2e0e9c226b8095d",
       "version_major": 2,
       "version_minor": 0
      },
      "text/plain": [
       "  0%|          | 0/385 [00:00<?, ?it/s]"
      ]
     },
     "metadata": {},
     "output_type": "display_data"
    }
   ],
   "source": [
    "cur_step = 0\n",
    "generator_losses = []\n",
    "discriminator_losses = []\n",
    "discriminator_losses_real = []\n",
    "discriminator_losses_fake = []\n",
    "metric_real = []\n",
    "metric_fake = [] \n",
    "\n",
    "for epoch in range(epoch_temp + 1, n_epochs):\n",
    "    print('Epoch: ' + str(epoch))\n",
    "    # Dataloader returns the batches and the labels\n",
    "    for real, labels in tqdm(dataloader):\n",
    "        cur_batch_size = len(real)\n",
    "        # Flatten the batch of real images from the dataset\n",
    "        real = real.to(device)\n",
    "\n",
    "        one_hot_labels = auxiliares.get_one_hot_labels(labels.to(device), n_classes)\n",
    "        image_one_hot_labels = one_hot_labels[:, :, None, None]\n",
    "        image_one_hot_labels = image_one_hot_labels.repeat(1, 1, mnist_shape[1], mnist_shape[2])\n",
    "\n",
    "        ### Update discriminator ###\n",
    "        # Zero out the discriminator gradients\n",
    "        disc_opt.zero_grad()\n",
    "        # Get noise corresponding to the current batch_size \n",
    "        fake_noise = auxiliares.get_noise(cur_batch_size, z_dim, device=device)\n",
    "        \n",
    "        # Now you can get the images from the generator\n",
    "        # Steps: 1) Combine the noise vectors and the one-hot labels for the generator\n",
    "        #        2) Generate the conditioned fake images\n",
    "       \n",
    "        noise_and_labels = auxiliares.combine_vectors(fake_noise, one_hot_labels)\n",
    "        #fake = gen(noise_and_labels)\n",
    "        fake = gen.forward(noise_and_labels) #no usar\n",
    "\n",
    "        # Now you can get the predictions from the discriminator\n",
    "        # Steps: 1) Create the input for the discriminator\n",
    "        #           a) Combine the fake images with image_one_hot_labels, \n",
    "        #              remember to detach the generator (.detach()) so you do not backpropagate through it\n",
    "        #           b) Combine the real images with image_one_hot_labels\n",
    "        #        2) Get the discriminator's prediction on the fakes as disc_fake_pred\n",
    "        #        3) Get the discriminator's prediction on the reals as disc_real_pred\n",
    "        \n",
    "        fake_image_and_labels = auxiliares.combine_vectors(fake.detach(), image_one_hot_labels)\n",
    "        real_image_and_labels = auxiliares.combine_vectors(real, image_one_hot_labels)\n",
    "        disc_fake_pred = disc(fake_image_and_labels)\n",
    "        disc_real_pred = disc(real_image_and_labels)               \n",
    "        disc_fake_loss = criterion(disc_fake_pred, torch.zeros_like(disc_fake_pred))\n",
    "        disc_real_loss = criterion(disc_real_pred, torch.ones_like(disc_real_pred))\n",
    "\n",
    "        metric_fake += [metric(disc_fake_pred, torch.zeros_like(disc_fake_pred)).item()]\n",
    "        metric_real += [metric(disc_real_pred, torch.ones_like(disc_real_pred)).item()]\n",
    "        \n",
    "        disc_loss = ((disc_fake_loss + disc_real_loss)/2)\n",
    "        \n",
    "        if regularizaM:\n",
    "            l2_reg = None\n",
    "            for W in disc.parameters():\n",
    "                if l2_reg is None:\n",
    "                    l2_reg = W.norm(2)\n",
    "                else:\n",
    "                    l2_reg = l2_reg + W.norm(2)\n",
    "            disc_loss = disc_loss +  l2_reg * reg_lambda \n",
    "        \n",
    "        disc_loss.backward(retain_graph=True)\n",
    "        disc_opt.step() \n",
    "\n",
    "        # Keep track of the average discriminator loss\n",
    "        discriminator_losses_real += [disc_real_loss.item()]\n",
    "        discriminator_losses_fake+= [disc_fake_loss.item()]\n",
    "        discriminator_losses += [disc_loss.item()]\n",
    "\n",
    "        ### Update generator ###\n",
    "        # Zero out the generator gradients\n",
    "        mean_iteration_gen_loss = 0\n",
    "        for _ in range(repeats_g):\n",
    "            gen_opt.zero_grad()\n",
    "            fake_noise_2 = auxiliares.get_noise(cur_batch_size, z_dim, device=device)       \n",
    "            noise_and_labels_2 = auxiliares.combine_vectors(fake_noise_2, one_hot_labels)\n",
    "            fake_2 = gen(noise_and_labels_2)   \n",
    "            fake_image_and_labels = auxiliares.combine_vectors(fake_2, image_one_hot_labels)\n",
    "            disc_fake_pred = disc(fake_image_and_labels)\n",
    "            gen_loss = criterion(disc_fake_pred, torch.ones_like(disc_fake_pred))\n",
    "            mean_iteration_gen_loss += gen_loss.item() / repeats_g    \n",
    "            gen_loss.backward()\n",
    "            gen_opt.step()\n",
    "\n",
    "        # Keep track of the generator losses\n",
    "        generator_losses += [mean_iteration_gen_loss]\n",
    "        #\n",
    "\n",
    "        if cur_step % display_step == 0 and cur_step > 0:\n",
    "            gen_mean = sum(generator_losses[-display_step:]) / display_step\n",
    "            disc_mean = sum(discriminator_losses[-display_step:]) / display_step\n",
    "            print(f\"Step {cur_step}: Generator loss: {gen_mean}, discriminator loss: {disc_mean}\")\n",
    "            print(f\"Espectrogramas Generados\")\n",
    "            visualizacion.show_tensor_images(torch.transpose(fake, 2, 3), size=(1, 129, 33))\n",
    "            print(f\"Espectrogramas Reales\")\n",
    "            visualizacion.show_tensor_images(torch.transpose(real, 2, 3), size=(1, 129, 33))\n",
    "            visualizacion.show_time_domine_images(torch.transpose(real, 2, 3), size=(1, 129, 33), std=std, mean=mean, real = True)\n",
    "            visualizacion.show_time_domine_images(torch.transpose(fake, 2, 3), size=(1, 129, 33), std=std, mean=mean, real = False)\n",
    "            step_bins = 20\n",
    "            x_axis = sorted([i * step_bins for i in range(len(generator_losses) // step_bins)] * step_bins)\n",
    "            num_examples = (len(generator_losses) // step_bins) * step_bins\n",
    "            plt.plot(\n",
    "                range(num_examples // step_bins), \n",
    "                torch.Tensor(generator_losses[:num_examples]).view(-1, step_bins).mean(1),\n",
    "                label=\"Generator Loss\"\n",
    "            )\n",
    "            plt.plot(\n",
    "                range(num_examples // step_bins), \n",
    "                torch.Tensor(discriminator_losses[:num_examples]).view(-1, step_bins).mean(1),\n",
    "                label=\"Discriminator Loss\"\n",
    "            )\n",
    "            plt.legend()\n",
    "            \n",
    "            plt.show()\n",
    "            plt.plot(\n",
    "                range(num_examples // step_bins), \n",
    "                torch.Tensor(generator_losses[:num_examples]).view(-1, step_bins).mean(1),\n",
    "                label=\"Generator Loss\"\n",
    "            )\n",
    "            plt.plot(\n",
    "                range(num_examples // step_bins), \n",
    "                torch.Tensor(discriminator_losses_fake[:num_examples]).view(-1, step_bins).mean(1),\n",
    "                label=\"Discriminator Loss Fake\"\n",
    "            )\n",
    "            plt.plot(\n",
    "                range(num_examples // step_bins), \n",
    "                torch.Tensor(discriminator_losses_real[:num_examples]).view(-1, step_bins).mean(1),\n",
    "                label=\"Discriminator Loss Real\"\n",
    "            )\n",
    "            plt.legend()\n",
    "            \n",
    "            plt.show()\n",
    "            plt.plot(\n",
    "                range(num_examples // step_bins), \n",
    "                torch.Tensor(metric_real[:num_examples]).view(-1, step_bins).mean(1),\n",
    "                label=\"METRIC REAL\"\n",
    "            )\n",
    "            plt.plot(\n",
    "                range(num_examples // step_bins), \n",
    "                torch.Tensor(metric_fake[:num_examples]).view(-1, step_bins).mean(1),\n",
    "                label=\"METRIC FAKE\"\n",
    "            )\n",
    "            plt.legend()\n",
    "            plt.show()\n",
    "        elif cur_step == 0:\n",
    "            print(\"Red Funcionando\")\n",
    "        cur_step += 1 \n",
    "    if((guardar and epoch % save_steep == 0) or epoch == n_epochs - 1):\n",
    "        Checkpoint.save_weighs(gen, disc, gen_opt, disc_opt, epoch, gen_loss, disc_loss, nombre)\n",
    "        print('epoch guardada')                "
   ]
  },
  {
   "cell_type": "code",
   "execution_count": null,
   "metadata": {
    "id": "gT-QnN2u-rvp"
   },
   "outputs": [],
   "source": [
    "#gen.state_dict()\n",
    "print(noise_and_labels)"
   ]
  },
  {
   "cell_type": "code",
   "execution_count": null,
   "metadata": {
    "id": "RwDyX-xl7m1C"
   },
   "outputs": [],
   "source": [
    "from torchvision import models\n",
    "from torchsummary import summary\n",
    "\n",
    "summary(gen, (66,1,1))\n",
    "\n",
    "summary(disc, (3,129,33))"
   ]
  },
  {
   "cell_type": "code",
   "execution_count": null,
   "metadata": {
    "id": "boSIiJ2rj71A"
   },
   "outputs": [],
   "source": [
    "gen.eval()\n",
    "disc.eval()"
   ]
  },
  {
   "cell_type": "code",
   "execution_count": null,
   "metadata": {
    "id": "hUTT5mStj71B"
   },
   "outputs": [],
   "source": [
    "import PrePross.grifflin as grifflin\n",
    "import numpy as np\n",
    "\n",
    "examples = 1\n",
    "\n",
    "for i in range(examples):\n",
    "    x = torch.tensor([1])\n",
    "    one_hot_labels = auxiliares.get_one_hot_labels(x.to(device), n_classes)\n",
    "    fake_noise = auxiliares.get_noise(1, z_dim, device=device)\n",
    "    noise_and_labels = auxiliares.combine_vectors(fake_noise, one_hot_labels)\n",
    "    fake = gen(noise_and_labels)\n",
    "    fake = fake.cpu().detach().numpy()\n",
    "    \n",
    "    #fake = real[1].cpu().detach().numpy()\n",
    "    #fake = np.expand_dims(fake, axis=1)\n",
    "    \n",
    "    #real, label = myData.__getitem__(852)\n",
    "    #fake = real.cpu().detach().numpy()\n",
    "    #fake = np.expand_dims(fake, axis=1)\n",
    "    \n",
    "    fake = fake * std + mean\n",
    "    samplerate = 50\n",
    "    timee, muestra_rec=grifflin.reconstruir_señal_generador(fake, 1000, samplerate)\n",
    "    muestra_rec = np.squeeze(muestra_rec)\n",
    "    tamaño = len(muestra_rec) / samplerate\n",
    "    time = np.linspace(0., tamaño, len(muestra_rec))\n",
    "    plt.plot(time,muestra_rec)\n",
    "    plt.title(\"Señal Recuperada\")\n",
    "    plt.xlabel(\"Time [s]\")\n",
    "    plt.ylabel(\"Amplitude\")\n",
    "    plt.show()\n",
    "    "
   ]
  },
  {
   "cell_type": "code",
   "execution_count": null,
   "metadata": {
    "id": "0v73cICPj71C"
   },
   "outputs": [],
   "source": [
    "print(real)"
   ]
  },
  {
   "cell_type": "code",
   "execution_count": null,
   "metadata": {
    "id": "yIzeVMWuj71C"
   },
   "outputs": [],
   "source": []
  }
 ],
 "metadata": {
  "accelerator": "GPU",
  "colab": {
   "collapsed_sections": [],
   "name": "Red.ipynb",
   "provenance": []
  },
  "kernelspec": {
   "display_name": "Python 3",
   "language": "python",
   "name": "python3"
  },
  "language_info": {
   "codemirror_mode": {
    "name": "ipython",
    "version": 3
   },
   "file_extension": ".py",
   "mimetype": "text/x-python",
   "name": "python",
   "nbconvert_exporter": "python",
   "pygments_lexer": "ipython3",
   "version": "3.6.15"
  }
 },
 "nbformat": 4,
 "nbformat_minor": 1
}
